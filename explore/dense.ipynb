{
 "cells": [
  {
   "cell_type": "code",
   "execution_count": 1,
   "id": "b353541d",
   "metadata": {},
   "outputs": [],
   "source": [
    "import torch\n",
    "import torch.nn as nn\n",
    "import torch.nn.functional as F"
   ]
  },
  {
   "cell_type": "code",
   "execution_count": 2,
   "id": "f3c5bf78",
   "metadata": {},
   "outputs": [],
   "source": [
    "class MyModel(nn.Module):\n",
    "    def __init__(self):\n",
    "        super().__init__()\n",
    "        self.fc1 = nn.Linear(100, 50)  # 100 входов, 50 нейронов\n",
    "        self.fc2 = nn.Linear(50, 10)   # 50 входов, 10 нейронов\n",
    "\n",
    "    def forward(self, x):\n",
    "        x = torch.relu(self.fc1(x))\n",
    "        x = self.fc2(x)\n",
    "        return x\n",
    "\n",
    "model = MyModel()"
   ]
  },
  {
   "cell_type": "code",
   "execution_count": null,
   "id": "2b3b8896",
   "metadata": {},
   "outputs": [
    {
     "name": "stdout",
     "output_type": "stream",
     "text": [
      "fc1: torch.Size([50, 100])\n",
      "fc2: torch.Size([10, 50])\n",
      "torch.Size([50])\n"
     ]
    }
   ],
   "source": [
    "weights = model.fc1.weight.data  \n",
    "print('fc1:', weights.shape)\n",
    "weights = model.fc2.weight.data  \n",
    "print('fc2:', weights.shape)\n",
    "print(weights[0].shape)"
   ]
  },
  {
   "cell_type": "code",
   "execution_count": 15,
   "id": "845c9fe8",
   "metadata": {},
   "outputs": [
    {
     "data": {
      "text/plain": [
       "torch.Size([10, 50])"
      ]
     },
     "execution_count": 15,
     "metadata": {},
     "output_type": "execute_result"
    }
   ],
   "source": [
    "model.fc2.weight.view(model.fc2.weight.size(0), -1).shape"
   ]
  },
  {
   "cell_type": "code",
   "execution_count": 9,
   "id": "2abb7d87",
   "metadata": {},
   "outputs": [
    {
     "data": {
      "image/png": "[encoded data removed]",
      "text/plain": [
       "<Figure size 640x480 with 1 Axes>"
      ]
     },
     "metadata": {},
     "output_type": "display_data"
    }
   ],
   "source": [
    "import matplotlib.pyplot as plt\n",
    "\n",
    "def plot_layer_weights(layer_weights, layer_name):\n",
    "    plt.hist(layer_weights.flatten().cpu().detach().numpy(), bins=50)\n",
    "    plt.title(f'Weight distribution in {layer_name}')\n",
    "    plt.xlabel('Weight value')\n",
    "    plt.ylabel('Frequency')\n",
    "    plt.show()\n",
    "\n",
    "# Пример для первого полносвязного слоя модели (fc1)\n",
    "weights = model.fc1.weight.data  # Берём веса слоя\n",
    "plot_layer_weights(weights, \"FC1\")"
   ]
  },
  {
   "cell_type": "code",
   "execution_count": null,
   "id": "46eed8f3",
   "metadata": {},
   "outputs": [],
   "source": []
  },
  {
   "cell_type": "code",
   "execution_count": null,
   "id": "7e2630b4",
   "metadata": {},
   "outputs": [
    {
     "name": "stdout",
     "output_type": "stream",
     "text": [
      "Near-zero weights in neuron: 1\n"
     ]
    }
   ],
   "source": [
    "def count_near_zero_weights(layer_weights, epsilon=1e-5):\n",
    "    near_zero = torch.abs(layer_weights) < epsilon\n",
    "    return torch.sum(near_zero).item()\n",
    "\n",
    "neuron_weights = model.fc1.weight.data\n",
    "print(f\"Near-zero weights in neuron: {count_near_zero_weights(neuron_weights)}\")"
   ]
  },
  {
   "cell_type": "code",
   "execution_count": 8,
   "id": "d55ed3b1",
   "metadata": {},
   "outputs": [
    {
     "name": "stdout",
     "output_type": "stream",
     "text": [
      "Dead neurons in FC1: []\n"
     ]
    }
   ],
   "source": [
    "def find_dead_neurons(layer, epsilon=1e-5):\n",
    "    dead_neurons = []\n",
    "    for i, neuron_weights in enumerate(layer.weight.data):\n",
    "        if torch.all(torch.abs(neuron_weights) < epsilon):\n",
    "            dead_neurons.append(i)\n",
    "    return dead_neurons\n",
    "\n",
    "dead_neurons_fc1 = find_dead_neurons(model.fc1)\n",
    "print(f\"Dead neurons in FC1: {dead_neurons_fc1}\")"
   ]
  },
  {
   "cell_type": "code",
   "execution_count": null,
   "id": "91d4b73d",
   "metadata": {},
   "outputs": [
    {
     "data": {
      "text/plain": [
       "tensor([[-0.0967, -0.0128, -0.0047,  ..., -0.0982,  0.0148,  0.0944],\n",
       "        [ 0.0225, -0.0256,  0.0516,  ..., -0.0599, -0.0770, -0.0221],\n",
       "        [-0.0585,  0.0046,  0.0159,  ..., -0.0711,  0.0802,  0.0501],\n",
       "        ...,\n",
       "        [-0.0914, -0.0423, -0.0204,  ..., -0.0324, -0.0652, -0.0380],\n",
       "        [-0.0974, -0.0210,  0.0125,  ...,  0.0018, -0.0821,  0.0358],\n",
       "        [ 0.0593, -0.0411, -0.0239,  ..., -0.0519,  0.0925,  0.0724]])"
      ]
     },
     "execution_count": 10,
     "metadata": {},
     "output_type": "execute_result"
    }
   ],
   "source": []
  },
  {
   "cell_type": "code",
   "execution_count": null,
   "id": "e729c160",
   "metadata": {},
   "outputs": [],
   "source": []
  }
 ],
 "metadata": {
  "kernelspec": {
   "display_name": "Python 3",
   "language": "python",
   "name": "python3"
  },
  "language_info": {
   "codemirror_mode": {
    "name": "ipython",
    "version": 3
   },
   "file_extension": ".py",
   "mimetype": "text/x-python",
   "name": "python",
   "nbconvert_exporter": "python",
   "pygments_lexer": "ipython3",
   "version": "3.9.6"
  }
 },
 "nbformat": 4,
 "nbformat_minor": 5
}
